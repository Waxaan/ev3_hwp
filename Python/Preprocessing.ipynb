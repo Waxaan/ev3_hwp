{
 "cells": [
  {
   "cell_type": "code",
   "execution_count": 2,
   "metadata": {},
   "outputs": [],
   "source": [
    "import json\n",
    "import os\n",
    "import numpy as np\n",
    "import matplotlib\n",
    "import matplotlib.pyplot as plt"
   ]
  },
  {
   "cell_type": "code",
   "execution_count": 3,
   "metadata": {},
   "outputs": [],
   "source": [
    "#scales the axis to fit the picture\n",
    "def make_axis_scale_equal():\n",
    "    x_min, x_max, y_min, y_max = plt.axis()\n",
    "    a_min = x_min if x_min < y_min else y_min\n",
    "    a_max = x_max if x_max > y_max else y_max\n",
    "    plt.axis([a_min, a_max, a_min, a_max])\n",
    "\n",
    "def plot_picture(picture, path=None, save=False, axis=None, dpi=None):\n",
    "    last_point = None\n",
    "    #draw a line between the last and the current point; \n",
    "    #   red if the current point is a new stroke\n",
    "    #   color_gradient if the current point is a continuation\n",
    "    for i, p in enumerate(picture['data']):\n",
    "        if 'new_begin' in p:\n",
    "            color = 'red'\n",
    "            marker = 's'\n",
    "            linestyle = '--'\n",
    "        else:\n",
    "            color = plt.cm.viridis(float(i) / len(picture['data']))\n",
    "            marker = 'o'\n",
    "            linestyle = '-'\n",
    "\n",
    "        plt.plot(p['x'], p['y'], color=color, linestyle='None', marker=marker, markersize=10)\n",
    "\n",
    "        #connect the current and last point with a line\n",
    "        if last_point is not None:\n",
    "            plt.plot([last_point['x'], p['x']], [last_point['y'], p['y']], color=color, \n",
    "                     linewidth=7, linestyle=linestyle)\n",
    "\n",
    "        last_point = p \n",
    "\n",
    "    make_axis_scale_equal()\n",
    "\n",
    "    #sets the graphs background/face-color\n",
    "    plt.gca().set_facecolor((0.6, 0.6, 0.6))\n",
    "    \n",
    "    #plot it in this document; doesn't save\n",
    "    if not save:\n",
    "        plt.title(picture['label'])\n",
    "        plt.show()"
   ]
  },
  {
   "cell_type": "code",
   "execution_count": 4,
   "metadata": {},
   "outputs": [],
   "source": [
    "def reduce_size(picture, data_len, vector_len):\n",
    "    \n",
    "    remove = data_len - vector_len\n",
    "    step = data_len/remove\n",
    "    \n",
    "    #x contains the indices of values which have to be deleted\n",
    "    x = np.arange(0, data_len-1, step).astype(int)\n",
    "    \n",
    "    #from back to front to not mess up the indices when deleting elements\n",
    "    #ignore the last element in x \n",
    "    for i in x[::-1]:\n",
    "        if 'new_begin' in picture['data'][i]:\n",
    "            del(picture['data'][i-1])\n",
    "        else:\n",
    "            del(picture['data'][i])\n",
    "            \n",
    "    return picture"
   ]
  },
  {
   "cell_type": "code",
   "execution_count": 5,
   "metadata": {},
   "outputs": [],
   "source": [
    "def get_longest_dist_index(picture):\n",
    "    max_dist = 0\n",
    "    pos = 0\n",
    "    last_data = picture['data'][0]\n",
    "    for index, data in enumerate(picture['data'][:-1]):\n",
    "        x = data['x'] - last_data['x']\n",
    "        y = data['y'] - last_data['y']\n",
    "        \n",
    "        last_data = data\n",
    "        \n",
    "        if 'new_begin' in data or 'new_begin' in last_data:\n",
    "            continue\n",
    "        \n",
    "        if np.sqrt(x*x + y*y) > max_dist:\n",
    "            max_dist = np.sqrt(x*x + y*y)\n",
    "            pos = index        \n",
    "        \n",
    "    return pos"
   ]
  },
  {
   "cell_type": "code",
   "execution_count": 6,
   "metadata": {},
   "outputs": [],
   "source": [
    "def create_new_point(prev_p, next_p):\n",
    "    new_point = {}\n",
    "    \n",
    "    x_diff = next_p['x'] - prev_p['x']\n",
    "    y_diff = next_p['y'] - prev_p['y']\n",
    "    t_diff = next_p['time'] - prev_p['time']\n",
    "    \n",
    "    new_point['x'] = prev_p['x'] + x_diff/2\n",
    "    new_point['y'] = prev_p['y'] + y_diff/2\n",
    "    new_point['time'] = prev_p['time'] + t_diff/2\n",
    "    \n",
    "    return new_point"
   ]
  },
  {
   "cell_type": "code",
   "execution_count": 7,
   "metadata": {},
   "outputs": [],
   "source": [
    "def increase_size(picture, data_len, vector_len):\n",
    "    \n",
    "    while(len(picture['data']) < vector_len):\n",
    "        \n",
    "        index = get_longest_dist_index(picture)\n",
    "        point = create_new_point(picture['data'][index-1], picture['data'][index])\n",
    "        picture['data'].insert(index, point)\n",
    "    \n",
    "    return picture    "
   ]
  },
  {
   "cell_type": "code",
   "execution_count": 8,
   "metadata": {
    "scrolled": true
   },
   "outputs": [],
   "source": [
    "def fit_vector_len(in_picture, vector_len = 32):\n",
    "    data_len = len(in_picture['data'])\n",
    "    if data_len == vector_len:\n",
    "        picture = letter\n",
    "    elif data_len < vector_len:\n",
    "        picture = increase_size(in_picture, data_len, vector_len)\n",
    "    elif data_len > vector_len:\n",
    "        picture = reduce_size(in_picture, data_len, vector_len)\n",
    "\n",
    "    return picture"
   ]
  },
  {
   "cell_type": "code",
   "execution_count": 68,
   "metadata": {},
   "outputs": [],
   "source": [
    "def fit_to_border(picture, x=22, y=70): #can be adjusted; x should remain at 22 tho\n",
    "    \n",
    "    x_seq = [x['x'] for x in picture['data']]\n",
    "    y_seq = [y['y'] for y in picture['data']]\n",
    "\n",
    "    x_min = min(x_seq)\n",
    "    x_max = max(x_seq)\n",
    "    width = x_max - x_min\n",
    "\n",
    "    y_min = min(y_seq)\n",
    "    y_max = max(y_seq)\n",
    "    height = y_max - y_min\n",
    "    new_height = height\n",
    "\n",
    "    print(width)\n",
    "    print(height)\n",
    "    if width > x:\n",
    "        for i in range(len(picture['data'])):\n",
    "            picture['data'][i]['x'] = np.round(float(picture['data'][i]['x'] * (x/width)), decimals=3) \n",
    "            picture['data'][i]['y'] = np.round(float(picture['data'][i]['y'] * (x/width)), decimals=3) \n",
    "            new_height = height * (x/width)\n",
    "\n",
    "    elif width < x:\n",
    "        for i in range(len(picture['data'])):\n",
    "            picture['data'][i]['x'] = np.round(float(picture['data'][i]['x'] * (width/x)), decimals=3) \n",
    "            picture['data'][i]['y'] = np.round(float(picture['data'][i]['y'] * (width/x)), decimals=3)\n",
    "            new_height = height * (width/x)\n",
    "\n",
    "    if new_height > y:\n",
    "        for i in range(len(picture['data'])):\n",
    "            picture['data'][i]['x'] = np.round(float(picture['data'][i]['x'] * (y/new_height)), decimals=3) \n",
    "            picture['data'][i]['y'] = np.round(float(picture['data'][i]['y'] * (y/new_height)), decimals=3)        \n",
    "\n",
    "    return picture        "
   ]
  },
  {
   "cell_type": "code",
   "execution_count": 69,
   "metadata": {},
   "outputs": [],
   "source": [
    "def save(picture):\n",
    "#example:\n",
    "#{{7.5, 10.0, 1.0}, {7.5, 20.0, 1.0}, {-22.5, 30.0, 0.0}, {7.5, -10.0, 0.0}};\n",
    "    out = \"{\"\n",
    "    prev = picture['data'][0]\n",
    "    DATALEN = 0\n",
    "    for data in picture['data'][1:]:\n",
    "        if(data['y']-prev['y'] < 0.3 and data['x']-prev['x'] < 0.3):\n",
    "            continue\n",
    "        out += \"{\" + str(np.round(float(data['x']-prev['x']), decimals=3)) + \",\"\n",
    "        out += str(np.round(float(data['y']-prev['y']), decimals=3)) + \",\"\n",
    "        out +=  str(1.0 if 'new_begin' in data else 0.0) + \"},\"\n",
    "        prev = data\n",
    "        DATALEN += 1\n",
    "    out = out[:-1]\n",
    "    out += \"};\"\n",
    "\n",
    "    with open(picture['label'] + \"_LEN_\"+ str(DATALEN) + \".cArray\", \"w\") as outfile:\n",
    "        outfile.write(out)"
   ]
  },
  {
   "cell_type": "code",
   "execution_count": 70,
   "metadata": {
    "scrolled": false
   },
   "outputs": [
    {
     "name": "stdout",
     "output_type": "stream",
     "text": [
      "733.8100000000001\n",
      "782.22\n"
     ]
    },
    {
     "data": {
      "image/png": "[encoded data removed]",
      "text/plain": [
       "<Figure size 432x288 with 1 Axes>"
      ]
     },
     "metadata": {},
     "output_type": "display_data"
    },
    {
     "name": "stdout",
     "output_type": "stream",
     "text": [
      "81\n"
     ]
    }
   ],
   "source": [
    "picture = json.load(open(\"thaddel.json\", \"r\"));\n",
    "\n",
    "f_l_128 = fit_vector_len(picture, 512)\n",
    "#have to use +1 to increase the number of points for the last step\n",
    "f_l_32 = fit_vector_len(f_l_128, 80+1)\n",
    "fitted_picture = fit_to_border(f_l_32)\n",
    "\n",
    "plot_picture(fitted_picture)\n",
    "print(len(fitted_picture['data']))\n",
    "save(fitted_picture)"
   ]
  },
  {
   "cell_type": "code",
   "execution_count": 32,
   "metadata": {},
   "outputs": [],
   "source": []
  },
  {
   "cell_type": "code",
   "execution_count": 33,
   "metadata": {},
   "outputs": [
    {
     "name": "stdout",
     "output_type": "stream",
     "text": [
      "128\n"
     ]
    }
   ],
   "source": []
  },
  {
   "cell_type": "code",
   "execution_count": null,
   "metadata": {},
   "outputs": [],
   "source": []
  }
 ],
 "metadata": {
  "kernelspec": {
   "display_name": "Python 3",
   "language": "python",
   "name": "python3"
  },
  "language_info": {
   "codemirror_mode": {
    "name": "ipython",
    "version": 3
   },
   "file_extension": ".py",
   "mimetype": "text/x-python",
   "name": "python",
   "nbconvert_exporter": "python",
   "pygments_lexer": "ipython3",
   "version": "3.6.7"
  }
 },
 "nbformat": 4,
 "nbformat_minor": 2
}
